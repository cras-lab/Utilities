{
  "nbformat": 4,
  "nbformat_minor": 0,
  "metadata": {
    "colab": {
      "provenance": [],
      "authorship_tag": "ABX9TyMf46mZJHwxRsny+Qswfuuo",
      "include_colab_link": true
    },
    "kernelspec": {
      "name": "python3",
      "display_name": "Python 3"
    },
    "language_info": {
      "name": "python"
    }
  },
  "cells": [
    {
      "cell_type": "markdown",
      "metadata": {
        "id": "view-in-github",
        "colab_type": "text"
      },
      "source": [
        "<a href=\"https://colab.research.google.com/github/cras-lab/Utilities/blob/main/ExtractMP3FromYouTube.ipynb\" target=\"_parent\"><img src=\"https://colab.research.google.com/assets/colab-badge.svg\" alt=\"Open In Colab\"/></a>"
      ]
    },
    {
      "cell_type": "markdown",
      "source": [
        "Need to install FFMPeg ---<BR>\n",
        "Download windows zip and extract to TARGET<BR>\n",
        "Include TARGET/bin path to Environment variables"
      ],
      "metadata": {
        "id": "5xIr2-iauBg-"
      }
    },
    {
      "cell_type": "code",
      "source": [
        "pip install yt-dlp"
      ],
      "metadata": {
        "colab": {
          "base_uri": "https://localhost:8080/"
        },
        "id": "bnmSPZscl6LK",
        "outputId": "85aa113c-93cd-4e2c-80c6-f8e059a5aa87"
      },
      "execution_count": 7,
      "outputs": [
        {
          "output_type": "stream",
          "name": "stdout",
          "text": [
            "Collecting yt-dlp\n",
            "  Downloading yt_dlp-2025.2.19-py3-none-any.whl.metadata (171 kB)\n",
            "\u001b[?25l     \u001b[90m━━━━━━━━━━━━━━━━━━━━━━━━━━━━━━━━━━━━━━━━\u001b[0m \u001b[32m0.0/171.9 kB\u001b[0m \u001b[31m?\u001b[0m eta \u001b[36m-:--:--\u001b[0m\r\u001b[2K     \u001b[90m━━━━━━━━━━━━━━━━━━━━━━━━━━━━━━━━━━━━━━━━\u001b[0m \u001b[32m171.9/171.9 kB\u001b[0m \u001b[31m5.0 MB/s\u001b[0m eta \u001b[36m0:00:00\u001b[0m\n",
            "\u001b[?25hDownloading yt_dlp-2025.2.19-py3-none-any.whl (3.2 MB)\n",
            "\u001b[2K   \u001b[90m━━━━━━━━━━━━━━━━━━━━━━━━━━━━━━━━━━━━━━━━\u001b[0m \u001b[32m3.2/3.2 MB\u001b[0m \u001b[31m58.6 MB/s\u001b[0m eta \u001b[36m0:00:00\u001b[0m\n",
            "\u001b[?25hInstalling collected packages: yt-dlp\n",
            "Successfully installed yt-dlp-2025.2.19\n"
          ]
        }
      ]
    },
    {
      "cell_type": "code",
      "execution_count": 8,
      "metadata": {
        "id": "4hAHKDvjl3_D",
        "colab": {
          "base_uri": "https://localhost:8080/"
        },
        "outputId": "3e94460b-1fe8-43ec-f9ba-3341ee1d1c22"
      },
      "outputs": [
        {
          "output_type": "stream",
          "name": "stdout",
          "text": [
            "Enter YouTube URL: https://www.youtube.com/watch?v=xPoMlmdy19I\n",
            "[youtube] Extracting URL: https://www.youtube.com/watch?v=xPoMlmdy19I\n",
            "[youtube] xPoMlmdy19I: Downloading webpage\n",
            "[youtube] xPoMlmdy19I: Downloading tv client config\n",
            "[youtube] xPoMlmdy19I: Downloading player 5ae7d525\n",
            "[youtube] xPoMlmdy19I: Downloading tv player API JSON\n",
            "[youtube] xPoMlmdy19I: Downloading ios player API JSON\n",
            "[youtube] xPoMlmdy19I: Downloading m3u8 information\n",
            "[info] xPoMlmdy19I: Downloading 1 format(s): 251\n",
            "[download] Destination: downloads/leejean - LIKE THAT TIME WHEN I SENT YO WITH SMILE(미소를 띄우며 나를 보낸 그 모습처럼)  ｜ 💸정숙한 세일즈 OST.webm\n",
            "[download] 100% of    4.01MiB in 00:00:00 at 6.16MiB/s   \n",
            "[ExtractAudio] Destination: downloads/leejean - LIKE THAT TIME WHEN I SENT YO WITH SMILE(미소를 띄우며 나를 보낸 그 모습처럼)  ｜ 💸정숙한 세일즈 OST.mp3\n",
            "Deleting original file downloads/leejean - LIKE THAT TIME WHEN I SENT YO WITH SMILE(미소를 띄우며 나를 보낸 그 모습처럼)  ｜ 💸정숙한 세일즈 OST.webm (pass -k to keep)\n",
            "MP3 file saved successfully!\n"
          ]
        }
      ],
      "source": [
        "import yt_dlp\n",
        "from pydub import AudioSegment\n",
        "import os\n",
        "\n",
        "def download_youtube_audio(url, output_folder=\"downloads\"):\n",
        "    try:\n",
        "        # 출력 폴더 확인 및 생성\n",
        "        if not os.path.exists(output_folder):\n",
        "            os.makedirs(output_folder)\n",
        "\n",
        "        # yt-dlp를 사용하여 오디오 다운로드\n",
        "        output_path = os.path.join(output_folder, \"%(title)s.%(ext)s\")\n",
        "        ydl_opts = {\n",
        "            'format': 'bestaudio/best',\n",
        "            'outtmpl': output_path,\n",
        "            'postprocessors': [{\n",
        "                'key': 'FFmpegExtractAudio',\n",
        "                'preferredcodec': 'mp3',\n",
        "                'preferredquality': '192',\n",
        "            }],\n",
        "        }\n",
        "\n",
        "        with yt_dlp.YoutubeDL(ydl_opts) as ydl:\n",
        "            ydl.download([url])\n",
        "\n",
        "        print(\"MP3 file saved successfully!\")\n",
        "    except Exception as e:\n",
        "        print(f\"Error: {e}\")\n",
        "\n",
        "if __name__ == \"__main__\":\n",
        "    youtube_url = input(\"Enter YouTube URL: \")\n",
        "    download_youtube_audio(youtube_url)\n"
      ]
    }
  ]
}